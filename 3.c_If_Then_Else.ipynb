{
 "cells": [
  {
   "cell_type": "code",
   "execution_count": null,
   "metadata": {},
   "outputs": [],
   "source": [
    "a = 33\n",
    "b = 200\n",
    "if b > a:\n",
    "  print(\"b is greater than a\")"
   ]
  },
  {
   "cell_type": "code",
   "execution_count": null,
   "metadata": {},
   "outputs": [],
   "source": [
    "a = 33\n",
    "b = 33\n",
    "if b > a:\n",
    "  print(\"b is greater than a\")\n",
    "elif a == b:\n",
    "  print(\"a and b are equal\")"
   ]
  },
  {
   "cell_type": "code",
   "execution_count": null,
   "metadata": {},
   "outputs": [],
   "source": [
    "a = 20\n",
    "b = 33\n",
    "if b > a:\n",
    "  print(\"b is greater than a\")\n",
    "elif a == b:\n",
    "  print(\"a and b are equal\")\n",
    "else:\n",
    "  print(\"a is greater than b\")"
   ]
  },
  {
   "cell_type": "code",
   "execution_count": null,
   "metadata": {},
   "outputs": [],
   "source": [
    "x=0"
   ]
  },
  {
   "cell_type": "code",
   "execution_count": null,
   "metadata": {},
   "outputs": [],
   "source": [
    "## Sum of first n naturals is n(n+1)/2\n",
    "x=0\n",
    "for i in range(5):\n",
    "        print(i)\n",
    "        x=x+i\n",
    "print(\"-------\")                \n",
    "print(\"Sum:\",x)        "
   ]
  },
  {
   "cell_type": "code",
   "execution_count": null,
   "metadata": {},
   "outputs": [],
   "source": [
    "x=0\n",
    "for i in range(1,5):\n",
    "    print(i)\n",
    "    if i%2==1:\n",
    "        x=x+i\n",
    "print(\"Sum:\",x)        "
   ]
  },
  {
   "cell_type": "code",
   "execution_count": null,
   "metadata": {},
   "outputs": [],
   "source": [
    "x=0\n",
    "for i in range(1,5):\n",
    "    if i%2==1:\n",
    "        print(i)\n",
    "        x=x+i\n",
    "print(\"Sum:\",x)        "
   ]
  },
  {
   "cell_type": "code",
   "execution_count": null,
   "metadata": {},
   "outputs": [],
   "source": [
    "x=0\n",
    "for i in range(1,10):\n",
    "    if i%2==1:\n",
    "        x=x+i\n",
    "    elif i%2==0:\n",
    "        x=x-i\n",
    "print(x)        "
   ]
  },
  {
   "cell_type": "code",
   "execution_count": null,
   "metadata": {},
   "outputs": [],
   "source": [
    "x=0\n",
    "for i in range(1,10):\n",
    "    if i%2==1:\n",
    "        x=x+i\n",
    "    elif i%3==0:\n",
    "        x=x-i\n",
    "    else:\n",
    "        x=x^2\n",
    "print(x)        "
   ]
  },
  {
   "cell_type": "code",
   "execution_count": null,
   "metadata": {},
   "outputs": [],
   "source": [
    "x=0\n",
    "for i in range(1,10):\n",
    "    if i%2==1:\n",
    "        print(\"odd:\",i)\n",
    "        x=x+i\n",
    "    elif i%3==0:\n",
    "        print(\"div by 3:\",i)\n",
    "        x=x+1\n",
    "    else:\n",
    "        print(\"else:\",i)\n",
    "        x=x-i\n",
    "print(x)        "
   ]
  },
  {
   "cell_type": "code",
   "execution_count": null,
   "metadata": {},
   "outputs": [],
   "source": []
  }
 ],
 "metadata": {
  "kernelspec": {
   "display_name": "Python 3",
   "language": "python",
   "name": "python3"
  },
  "language_info": {
   "codemirror_mode": {
    "name": "ipython",
    "version": 3
   },
   "file_extension": ".py",
   "mimetype": "text/x-python",
   "name": "python",
   "nbconvert_exporter": "python",
   "pygments_lexer": "ipython3",
   "version": "3.9.6"
  }
 },
 "nbformat": 4,
 "nbformat_minor": 2
}
