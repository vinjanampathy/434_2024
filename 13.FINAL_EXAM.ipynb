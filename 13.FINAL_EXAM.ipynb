{
 "cells": [
  {
   "cell_type": "markdown",
   "metadata": {},
   "source": [
    "# <font color='red'>-- A GIF SHOWING THE EXPECTED ANSWER to Pr 7 IS UPLOADED AS ST.Gif. Please download from GIT BEFORE YOU START and see it when you reach Pr.7."
   ]
  },
  {
   "cell_type": "markdown",
   "metadata": {},
   "source": [
    "# <font color='blue'>-- ANSWER ALL 7 Questions as code (or corrected code in Pr1) and submit as instructed by the TAs. The first five questions are 5 marks each and the last two are 7.5 marks each. "
   ]
  },
  {
   "cell_type": "markdown",
   "metadata": {},
   "source": [
    "## [1]The following code is intended to identify all odd prime numbers from a given list of integers and calculate their total. However, the code contains several logical and syntax errors. Your task is to identify and fix the mistakes in the code so that it accurately performs the following tasks:\n",
    "\n",
    "### (1a) Identify odd prime numbers from a given list.\n",
    "\n",
    "### (1b) Calculate the total of the odd prime numbers."
   ]
  },
  {
   "cell_type": "code",
   "execution_count": null,
   "metadata": {},
   "outputs": [],
   "source": [
    "def is_prime(n):\n",
    "    if n <= 1:\n",
    "        return False\n",
    "    for i in range(2, n // 2):\n",
    "        if n % i = 0:\n",
    "            return False\n",
    "    return True\n",
    "\n",
    "def find_odd_primes(numbers):\n",
    "    odd_primes = []\n",
    "    for num in numbers:\n",
    "        if num % 2 != 0 or is_prime(num):\n",
    "            odd_primes.append(num)\n",
    "    return odd_primes\n",
    "\n",
    "def calculate_total(numbers):\n",
    "    total = 0\n",
    "    for i in range(len(numbers) + 1):\n",
    "        total += numbers[i]\n",
    "    return total\n",
    "\n",
    "numbers = [1, 3, 4, 5, 7, 10, 11, 13, 15, 17, 18]\n",
    "\n",
    "odd_primes = find_odd_primes(numbers)\n",
    "print(\"Odd prime numbers:\", odd_primes)\n",
    "\n",
    "total = calculate_total(odd_primes)\n",
    "print(\"Total of odd prime numbers:\", total)"
   ]
  },
  {
   "cell_type": "markdown",
   "metadata": {},
   "source": [
    "## [2] Write a program that takes two complex numbers, $Z_1$ and $Z_2$, input as tuples (you should know what this is by now) and outputs \n",
    "\n",
    "### (a) the product of the two complex numbers and \n",
    "\n",
    "### (b) the ratio of the two numbers. "
   ]
  },
  {
   "cell_type": "code",
   "execution_count": null,
   "metadata": {},
   "outputs": [],
   "source": []
  },
  {
   "cell_type": "markdown",
   "metadata": {},
   "source": [
    "## [3] Make a function that evaluates $x\\sin(\\frac{1}{x})$ in 20000 places uniformly spread between $x=-10$ and $x=+10$. Plot this, label your axis and place a legend. "
   ]
  },
  {
   "cell_type": "code",
   "execution_count": null,
   "metadata": {},
   "outputs": [],
   "source": []
  },
  {
   "cell_type": "markdown",
   "metadata": {},
   "source": [
    "## [4] Write a program defining two functions that takes a matrix as an input and checks:\n",
    "\n",
    "### (a) whether the matrix is row-echelon, and\n",
    "\n",
    "### (b) whether the matrix is reduced row-echelon.\n",
    "\n",
    "### Row-echelon matrices satisfy the following:\n",
    "\n",
    "#### 1.⁠ ⁠All rows having only zeros are at the bottom of matrix.\n",
    "\n",
    "#### 2.⁠ ⁠The leading entry (the left-most nonzero entry) of every nonzero row, is on the right of the leading entry of every row above. The leading entry of a nonzero row is called the pivot of the row.\n",
    "\n",
    "### Reduced row-echelon matrices are row-echelon matrices that further satisfy the following:\n",
    "\n",
    "#### 1.⁠ ⁠The pivot in each nonzero row is strictly one.\n",
    "\n",
    "#### 2.⁠ ⁠The column containing the pivot has zeros in all its other entries."
   ]
  },
  {
   "cell_type": "code",
   "execution_count": null,
   "metadata": {},
   "outputs": [],
   "source": []
  },
  {
   "cell_type": "markdown",
   "metadata": {},
   "source": [
    "## [5] Consider the damped driven harmonic oscillator whose evolution equation is given by $\\ddot{x}(t)+ \\omega_0^2 x(t)+\\gamma \\dot{x}(t)=A\\cos(\\omega_d t)$ with the RHS representing the drive amplitude and frequency. \n",
    "\n",
    "## Write a program that takes $\\omega_0,\\gamma,\\omega_d,A$ and outputs the power spectrum by Fourier transforming the autocorrelation function of $x(t)$. Remember that the Fourier transform of the convolution of $x(t)$ namely $I(\\omega)=\\mathcal{F}(\\alpha(t))$, where $\\mathcal F$ is the fourier transform, the convolution is defined as $\\alpha(t)=\\int_{-\\infty}^{\\infty}ds ~x(s)x(s-t)$ and is also called the AUTO CORRELATION FUNCTION. This follows from Fourier tranform rules around convolution."
   ]
  },
  {
   "cell_type": "code",
   "execution_count": null,
   "metadata": {},
   "outputs": [],
   "source": []
  },
  {
   "cell_type": "markdown",
   "metadata": {},
   "source": [
    "## [6] The input parameters to this problem are $\\delta t,\\sigma$. \n",
    "\n",
    "## Consider a 1 dimensional random walk, where every even step is sampled from a uniform distribution between $(0,\\delta t)$ and where every odd step is sampled from Gaussian distribution with zero mean and variance $\\sigma^2$. \n",
    "\n",
    "### (a) Write a code to output a time series $t,x(t)$ simulating this walk and \n",
    "\n",
    "### (b) calculate the mean and variance of the position of the walker numerically after 10000 steps. Note here that you are computing stochastic averages. \n"
   ]
  },
  {
   "cell_type": "code",
   "execution_count": null,
   "metadata": {},
   "outputs": [],
   "source": []
  },
  {
   "cell_type": "markdown",
   "metadata": {},
   "source": [
    "## [7] The Sierpiński triangle is a fractal with the overall shape of an equilateral triangle, subdivided recursively into smaller equilateral triangles. Write a program that generates the Sierpiński triangle using the following steps:\n",
    "### 1.⁠ ⁠Define three points in a plane that form the vertices of an equilateral triangle.\n",
    "\n",
    "### 2.⁠ ⁠Randomly select any point within or outside the triangle and use this point as your starting position.\n",
    "\n",
    "### 3.⁠ ⁠Randomly select one of the three vertices of the triangle.\n",
    "\n",
    "### 4.⁠ ⁠Move halfway from your current position towards the selected vertex.\n",
    "\n",
    "### 5.⁠ ⁠Plot your current position as a point on the screen.\n",
    "\n",
    "### 6.⁠ ⁠Repeat steps 3–5 multiple times (e.g., 10,000 iterations) to reveal the Sierpiński triangle pattern. This method is also called the chaos game, and is an example of an iterated function system.\n",
    "\n",
    "#### Bonus:\n",
    "#### Try varying the iteration count and observe the effect on the level of detail in the triangle. Additionally, experiment with using colors to differentiate points based on their proximity to each of the vertices."
   ]
  },
  {
   "cell_type": "code",
   "execution_count": null,
   "metadata": {},
   "outputs": [],
   "source": []
  },
  {
   "cell_type": "markdown",
   "metadata": {},
   "source": [
    "## SEE THE GIF\n",
    "\n",
    " ‘ST.gif’ files shows an Isosceles Triangle. View it to see what you should get in your code."
   ]
  },
  {
   "cell_type": "markdown",
   "metadata": {},
   "source": []
  }
 ],
 "metadata": {
  "kernelspec": {
   "display_name": "Python 3",
   "language": "python",
   "name": "python3"
  },
  "language_info": {
   "codemirror_mode": {
    "name": "ipython",
    "version": 3
   },
   "file_extension": ".py",
   "mimetype": "text/x-python",
   "name": "python",
   "nbconvert_exporter": "python",
   "pygments_lexer": "ipython3",
   "version": "3.9.6"
  }
 },
 "nbformat": 4,
 "nbformat_minor": 2
}
