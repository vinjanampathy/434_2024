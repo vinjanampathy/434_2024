{
 "cells": [
  {
   "cell_type": "markdown",
   "metadata": {},
   "source": [
    "# <font color='red'>Refresher. <font>"
   ]
  },
  {
   "cell_type": "markdown",
   "metadata": {},
   "source": [
    "## This is a refresher for the concepts we learned in class so far. We will work through Function Definitions, focussing on giving the function a name, giving inputs, giving defaults to inputs and assigning outputs. "
   ]
  },
  {
   "cell_type": "markdown",
   "metadata": {},
   "source": [
    "## We will continue discussing an important question, which is \"HOW DO YOU KNOW THAT THE NUMBERS BEING OUTPUT FROM YOUR CODE ARE CORRECT\"? We will call this performing \"physics testing\" of our code. \n",
    "\n",
    "A related question is to identify bugs in your code, often referred to as \"code testing\" in software development. You can read more about code testing (which I will not talk about outside this physics testing) here https://en.wikipedia.org/wiki/Software_testing."
   ]
  },
  {
   "cell_type": "markdown",
   "metadata": {},
   "source": [
    "## <font color='red'> TWO TECHNIQUES OF TESTING CODE<font>\n",
    "### [1] Test a limiting case whose answer you know.\n",
    "### [2] Test an example/special case which is exactly solvable.\n",
    "\n",
    "WE will see both these tricks Today and Friday."
   ]
  },
  {
   "cell_type": "markdown",
   "metadata": {},
   "source": [
    "### Consider again, a generalization of last weeks class. The equation which defines a time discritized differential equation called a RICCATI Equation\n",
    "\n",
    "# $x_{n+1}=x_n+\\delta t (c\\pm x_n^2)$\n",
    "\n",
    "### Here $\\delta t$ and $c$ are parameters you can set. NOTE THE $\\pm$.\n",
    "\n",
    "### Note that this just came from the differential equation $\\frac{dx}{dt}=c\\pm x^2$. Such an equation, which is a first order quadraticly non-linear differential equation is called a Ricatti equation. \n",
    "\n",
    "### Note that we can solve it using standard techniques. for $\\frac{dx}{dt}=1-x^2$, you can use variable separation and use $\\frac{1}{1-x^2}=\\frac{1}{2}(\\frac{1}{1+x}+\\frac{1}{1-x})$. From here, you can integrate it. \n",
    "\n",
    "### For $\\frac{dx}{dt}=1+x^2$, you can write $x=\\tan(\\theta), dx=\\sec^2(\\theta)d\\theta$ and the integral $\\int \\frac{dx}{1+x^2}$ gets transformed to $\\arctan(x)+\\kappa$, where $\\kappa$ is fixed by the boundary. "
   ]
  },
  {
   "cell_type": "markdown",
   "metadata": {},
   "source": [
    "# <font color='red'> Tasks for today\n",
    "## [1] Take your NUMPY function for $c=1$ and solve numerically for the case $\\frac{dx}{dt}=1+x^2$. VERIFY your solution using the exact solution, which you should also be able to plot alongside the numerical solution. \n",
    "\n",
    "## [2] Do the same for -1. Take your NUMPY function for $c=1$ and solve numerically for the case $\\frac{dx}{dt}=1-x^2$. VERIFY your solution using the exact solution, which you should also be able to plot alongside the numerical solution. \n",
    "\n",
    "## [3] What do you propose we do to check for $c\\neq1$. Write a code and check for $c=5\\sqrt 6$\n"
   ]
  },
  {
   "cell_type": "code",
   "execution_count": 23,
   "metadata": {},
   "outputs": [],
   "source": [
    "# Pr1 function here"
   ]
  },
  {
   "cell_type": "code",
   "execution_count": null,
   "metadata": {},
   "outputs": [],
   "source": [
    "# Pr2 function here"
   ]
  },
  {
   "cell_type": "code",
   "execution_count": null,
   "metadata": {},
   "outputs": [],
   "source": [
    "# Pr3 function here"
   ]
  },
  {
   "cell_type": "code",
   "execution_count": 33,
   "metadata": {},
   "outputs": [],
   "source": [
    "# Pr3 here. "
   ]
  },
  {
   "cell_type": "markdown",
   "metadata": {},
   "source": [
    "# <font color='red'> Tasks for today\n",
    "## [4] How will you discritize $\\frac{d^2x}{dt^2}+\\omega_0^2 x=0$? Write a function and check against the exact solution. Notice we moved from first-order non-linear differential equations to second order linear differential equations. You need to remember your basic definition of limits."
   ]
  },
  {
   "cell_type": "markdown",
   "metadata": {},
   "source": [
    "# Curiosity: I want to share an extra bit of physics/maths with you, just to get you more interested in Ricatti. There are deep connections to JWKB, Eikonal and other parts of Physics....which we can discuss at another time. \n",
    "\n",
    "## Consider $u(x)$ to be a function such that $u^{''}(x)=\\lambda u(x)$ for some constant $\\lambda$. Consider $y(x)=\\frac{u'(x)}{u(x)}$. \n",
    "## Calculate the equation for $y'(x)$ and note that it is a Ricatti equation. See https://www.reed.edu/physics/faculty/wheeler/documents/Quantum%20Mechanics/Miscellaneous%20Essays/Riccati%20Method%20in%20QM.pdf for a more general connection between first order non-linear differential equations and Schrodinger equations."
   ]
  },
  {
   "cell_type": "markdown",
   "metadata": {},
   "source": [
    "# <font color='red'> Tasks for today\n",
    "## [5] Consider the second order Runge-Kutta method, defined as $y_{n+1}=y_{n}+\\frac{k_1+k_2}{2}$, where $k_1=h f(y_n,t_n)$ and $k_2=h f(y_n+k_1,t_n+h)$. This method numerically solves the differential equation $\\frac{dy}{dt}=f(y,t)$, $y(t=0)=y_0$. Setup a code to implement the RK2 method and apply it to the Ricatti equation $\\frac{dx}{dt}=1+x^2$"
   ]
  },
  {
   "cell_type": "code",
   "execution_count": null,
   "metadata": {},
   "outputs": [],
   "source": [
    "# RK2 Implementation of Ricatti here."
   ]
  },
  {
   "cell_type": "markdown",
   "metadata": {},
   "source": [
    "# <font color='red'> Tasks for today\n",
    "## [6] Consider now the differential equation $\\frac{d^2x}{dt^2}+\\omega_0^2 x -\\gamma_1\\frac{dx}{dt}+\\gamma_2x^2\\frac{dx}{dt}=0$. This is the famous undriven van der Pol oscillator, which plays an important role in describing so-called relaxation oscillators in vacuum tubes. Setup a code to solve it.\n",
    "\n",
    "## [7] Set $\\gamma_2=0$ and convince your TAs that the code works, by matching it against the exact solution (note that you have to work out complementary function and particular integral)."
   ]
  },
  {
   "cell_type": "markdown",
   "metadata": {},
   "source": []
  }
 ],
 "metadata": {
  "kernelspec": {
   "display_name": "Python 3",
   "language": "python",
   "name": "python3"
  },
  "language_info": {
   "codemirror_mode": {
    "name": "ipython",
    "version": 3
   },
   "file_extension": ".py",
   "mimetype": "text/x-python",
   "name": "python",
   "nbconvert_exporter": "python",
   "pygments_lexer": "ipython3",
   "version": "3.9.6"
  }
 },
 "nbformat": 4,
 "nbformat_minor": 2
}
