{
 "cells": [
  {
   "cell_type": "markdown",
   "metadata": {},
   "source": [
    "# <font color='red'> Phase Diagram of a Harmonic Oscillator </font>"
   ]
  },
  {
   "cell_type": "markdown",
   "metadata": {},
   "source": [
    "## 1. Using Arrays"
   ]
  },
  {
   "cell_type": "markdown",
   "metadata": {},
   "source": [
    "### * The equation of motion for a harmonic oscillator is $\\dot{x}=\\frac{p}{m}$ and $\\dot{p}=-m \\omega^2 x$. Lets solve this with first order solver."
   ]
  },
  {
   "cell_type": "code",
   "execution_count": null,
   "metadata": {},
   "outputs": [],
   "source": [
    "from matplotlib import pyplot as plt # We need this package to plot figures."
   ]
  },
  {
   "cell_type": "code",
   "execution_count": null,
   "metadata": {},
   "outputs": [],
   "source": [
    "def Simple_Evolve_SHO(x,p,δt,m,ω): # Returns ẋ and ṗ for SHO.\n",
    "    dx = (p/m)*δt\n",
    "    dp = -m*(ω**2)*x*δt\n",
    "    return dx,dp"
   ]
  },
  {
   "cell_type": "code",
   "execution_count": null,
   "metadata": {},
   "outputs": [],
   "source": [
    "# TEST as you write...\n",
    "dx,dp = Simple_Evolve_SHO(2,1,1e-4,1,1)\n",
    "dx,dp"
   ]
  },
  {
   "cell_type": "markdown",
   "metadata": {},
   "source": [
    "### * Do not use for Loops unless you need to. Lets see this in action by first building a \"loopy way\" of evaluating all this."
   ]
  },
  {
   "cell_type": "code",
   "execution_count": null,
   "metadata": {},
   "outputs": [],
   "source": [
    "def Evolve_Many_Times(x0,p0,δt,m,ω,num):\n",
    "        x=[] # Empty arrays, so that you can store x and p. Remove this and see the error python will throw.\n",
    "        p=[] # Empty arrays, so that you can store x and p. Remove this and see the error python will throw.\n",
    "        x.append(x0) # Append function simply adds a given entry, x0 here, as the last entry to the list.\n",
    "        p.append(p0) # APPEND IS A METHOD, which means that you use .append() method to do things. This should remind you of Object Oriented Programming...\n",
    "        for i in range(1,num): # WHY did I write range(1,num) and not just range(num)?\n",
    "            δx,δp = Simple_Evolve_SHO(x[-1],p[-1],δt,m,ω)\n",
    "            x.append(x[-1]+δx)\n",
    "            p.append(p[-1]+δp)\n",
    "        return x,p"
   ]
  },
  {
   "cell_type": "code",
   "execution_count": null,
   "metadata": {},
   "outputs": [],
   "source": [
    "x0=.0\n",
    "p0=.01\n",
    "x,p=Evolve_Many_Times(x0,p0,1e-5,1,1,10**6)"
   ]
  },
  {
   "cell_type": "code",
   "execution_count": null,
   "metadata": {
    "scrolled": true
   },
   "outputs": [],
   "source": [
    "# Notice that this is a quick way to plot x,\n",
    "# since I did not give the x-axis, plt plots x on the y-axis vs. array number on the x-axis.\n",
    "plt.plot(x,'k')"
   ]
  },
  {
   "cell_type": "code",
   "execution_count": null,
   "metadata": {},
   "outputs": [],
   "source": [
    "plt.plot(x,p,'b+')\n",
    "#plt.axes().set_aspect('equal', 'datalim')"
   ]
  },
  {
   "cell_type": "code",
   "execution_count": null,
   "metadata": {
    "scrolled": false
   },
   "outputs": [],
   "source": [
    "for i in range(6):\n",
    "        %timeit Evolve_Many_Times(x0,p0,1e-5,1,1,10**i)"
   ]
  },
  {
   "cell_type": "code",
   "execution_count": null,
   "metadata": {
    "scrolled": true
   },
   "outputs": [],
   "source": [
    "#IF you plot it, there is a bunch of points at the origin...\n",
    "plt.plot([1,10,100,1000,10000,100000],[615*1e-9,8.06*1e-6,81.6*1e-6,818*1e-6,8.3*1e-3,85.3*1e-3],'rx-')"
   ]
  },
  {
   "cell_type": "code",
   "execution_count": null,
   "metadata": {},
   "outputs": [],
   "source": [
    "# Use semilogy or loglog to visualize this better\n",
    "plt.loglog([1,10,100,1000,10000,100000],[615*1e-9,8.06*1e-6,81.6*1e-6,818*1e-6,8.3*1e-3,85.3*1e-3],'rd--')"
   ]
  },
  {
   "cell_type": "markdown",
   "metadata": {},
   "source": [
    "## We learnt from the basic numpy notebook that numpy typically is better at this stuff. So lets see if we can make things better?"
   ]
  },
  {
   "cell_type": "markdown",
   "metadata": {},
   "source": [
    "# 3. Using Integrators \n",
    "#### (see https://flothesof.github.io/harmonic-oscillator-three-methods-solution.html)"
   ]
  },
  {
   "cell_type": "code",
   "execution_count": null,
   "metadata": {},
   "outputs": [],
   "source": [
    "import numpy as np"
   ]
  },
  {
   "cell_type": "markdown",
   "metadata": {},
   "source": [
    "# In integrators , typically you are trying to solve a 1st order vector ODE of the form $\\dot{\\vec{y}}=f(\\vec{y})$. You need to define the RHS."
   ]
  },
  {
   "cell_type": "code",
   "execution_count": null,
   "metadata": {},
   "outputs": [],
   "source": [
    "def deriv(u, t, omega_squared):\n",
    "    \"Provides derivative of vector u.\"\n",
    "    xdot, x = u\n",
    "    return [-omega_squared * x, xdot]"
   ]
  },
  {
   "cell_type": "code",
   "execution_count": null,
   "metadata": {},
   "outputs": [],
   "source": [
    "from scipy.integrate import odeint\n",
    "y0 = [0, 1]\n",
    "snapshot_dt = 0.3\n",
    "ts = np.arange(0, 12, snapshot_dt)\n",
    "scipysol = odeint(deriv, y0, ts, args=(1,))"
   ]
  },
  {
   "cell_type": "code",
   "execution_count": null,
   "metadata": {},
   "outputs": [],
   "source": [
    "odeint?"
   ]
  },
  {
   "cell_type": "code",
   "execution_count": null,
   "metadata": {},
   "outputs": [],
   "source": [
    "scipysol"
   ]
  },
  {
   "cell_type": "code",
   "execution_count": null,
   "metadata": {},
   "outputs": [],
   "source": [
    "plt.plot(ts, scipysol[:, 1])"
   ]
  },
  {
   "cell_type": "markdown",
   "metadata": {},
   "source": [
    "# 4. Doing things Smartly. Exponential of the evolution operator."
   ]
  },
  {
   "cell_type": "code",
   "execution_count": null,
   "metadata": {},
   "outputs": [],
   "source": [
    "import numpy as np\n",
    "from scipy.linalg import expm # This is the \"exponential of an operator\" function"
   ]
  },
  {
   "cell_type": "code",
   "execution_count": null,
   "metadata": {},
   "outputs": [],
   "source": [
    "expm?"
   ]
  },
  {
   "cell_type": "code",
   "execution_count": null,
   "metadata": {},
   "outputs": [],
   "source": [
    "expm(np.zeros((2,2)))"
   ]
  },
  {
   "cell_type": "markdown",
   "metadata": {},
   "source": [
    "# Notice that you can write $\\vec{z}(t)=e^{Mt}\\vec{z}(0)$"
   ]
  },
  {
   "cell_type": "code",
   "execution_count": null,
   "metadata": {},
   "outputs": [],
   "source": [
    "def Integrate_Using_Exp(δt,m,ω):\n",
    "        M=np.array([[0,1/m],[-m*(ω**2),0]]) # Evaluate the matrix\n",
    "        Evolution=expm(M*δt) # Evaluate its exponential\n",
    "        return Evolution # Return it."
   ]
  },
  {
   "cell_type": "code",
   "execution_count": null,
   "metadata": {},
   "outputs": [],
   "source": [
    "z0=np.random.rand(2,1) # Initialize the phase trajectory somewhere random in the unit circle.\n",
    "z0"
   ]
  },
  {
   "cell_type": "code",
   "execution_count": null,
   "metadata": {},
   "outputs": [],
   "source": [
    "U=Integrate_Using_Exp(1e-5,1,1)\n",
    "U"
   ]
  },
  {
   "cell_type": "code",
   "execution_count": null,
   "metadata": {},
   "outputs": [],
   "source": [
    "def Evolve_Using_Numpy(U,z0,num):\n",
    "    x=np.zeros(num)\n",
    "    p=np.zeros(num)\n",
    "    z=z0\n",
    "    for i in range(num):\n",
    "        x[i]=z[0]\n",
    "        p[i]=z[1]\n",
    "        z = U.dot(z)\n",
    "        \n",
    "    return(x,p)"
   ]
  },
  {
   "cell_type": "code",
   "execution_count": null,
   "metadata": {},
   "outputs": [],
   "source": [
    "Evolve_Using_Numpy(U,z0,10**5)"
   ]
  },
  {
   "cell_type": "code",
   "execution_count": null,
   "metadata": {},
   "outputs": [],
   "source": [
    "plt.plot(x,p,'b.')\n",
    "#plt.axes().set_aspect('equal', 'datalim')"
   ]
  },
  {
   "cell_type": "code",
   "execution_count": null,
   "metadata": {
    "scrolled": false
   },
   "outputs": [],
   "source": [
    "for i in range(6):\n",
    "        %timeit Evolve_Using_Numpy(U,z0,10**i)"
   ]
  },
  {
   "cell_type": "markdown",
   "metadata": {},
   "source": [
    "# Comparing with before, nothing good seems to have been achieved. \n",
    "# Reason for that is we are not using vectorization properly. \n",
    "# We are still going through loops."
   ]
  },
  {
   "cell_type": "code",
   "execution_count": null,
   "metadata": {
    "scrolled": false
   },
   "outputs": [],
   "source": [
    "for i in range(6):\n",
    "        %timeit Evolve_Many_Times(x0,p0,1e-5,1,1,10**i)"
   ]
  },
  {
   "cell_type": "code",
   "execution_count": null,
   "metadata": {},
   "outputs": [],
   "source": [
    "z0"
   ]
  },
  {
   "cell_type": "code",
   "execution_count": null,
   "metadata": {
    "scrolled": true
   },
   "outputs": [],
   "source": [
    "U"
   ]
  },
  {
   "cell_type": "code",
   "execution_count": null,
   "metadata": {},
   "outputs": [],
   "source": [
    "from numpy.linalg import matrix_power\n",
    "matrix_power(U, 2).dot(z0).transpose()"
   ]
  },
  {
   "cell_type": "code",
   "execution_count": null,
   "metadata": {},
   "outputs": [],
   "source": [
    "def Evolve_Using_Numpy_List_Comp(U,z0,num): # I have added List_Comp for list comprehension\n",
    "    Z=[(matrix_power(U, i)).dot(z0).transpose() for i in range(num)]\n",
    "    return Z"
   ]
  },
  {
   "cell_type": "code",
   "execution_count": null,
   "metadata": {},
   "outputs": [],
   "source": [
    "Z=Evolve_Using_Numpy_List_Comp(U,z0,5)"
   ]
  },
  {
   "cell_type": "code",
   "execution_count": null,
   "metadata": {},
   "outputs": [],
   "source": [
    "for i in range(5):\n",
    "    %timeit Evolve_Using_Numpy_List_Comp(U,z0,10**i)"
   ]
  },
  {
   "cell_type": "markdown",
   "metadata": {},
   "source": [
    "## Still no speedup. So whats happening?\n"
   ]
  },
  {
   "cell_type": "code",
   "execution_count": null,
   "metadata": {},
   "outputs": [],
   "source": [
    "Dim = 10\n"
   ]
  },
  {
   "cell_type": "code",
   "execution_count": null,
   "metadata": {},
   "outputs": [],
   "source": [
    "δt=1e-5\n",
    "F = np.random.rand(Dim,Dim) +1j*np.random.rand(Dim,Dim) \n",
    "Fd=F.conj().T\n",
    "H=F.dot(Fd)\n",
    "U=expm(-1j*H*δt)"
   ]
  },
  {
   "cell_type": "code",
   "execution_count": null,
   "metadata": {},
   "outputs": [],
   "source": [
    "z0=np.random.rand(Dim)"
   ]
  },
  {
   "cell_type": "code",
   "execution_count": null,
   "metadata": {},
   "outputs": [],
   "source": [
    "U.dot(z0)"
   ]
  },
  {
   "cell_type": "code",
   "execution_count": null,
   "metadata": {},
   "outputs": [],
   "source": [
    "for i in range(5):\n",
    "    %timeit Evolve_Using_Numpy_List_Comp(U,z0,10**i)"
   ]
  },
  {
   "cell_type": "markdown",
   "metadata": {},
   "source": [
    "# EXERCISES: \n",
    "## Write a code to solve time dependant phase trajectory for damped SHO $\\ddot{x}+\\omega^2 x+\\dot{x}=\\epsilon\\cos(\\omega_d t)$"
   ]
  },
  {
   "cell_type": "code",
   "execution_count": null,
   "metadata": {},
   "outputs": [],
   "source": [
    "import numpy as np"
   ]
  },
  {
   "cell_type": "code",
   "execution_count": null,
   "metadata": {},
   "outputs": [],
   "source": [
    "z0=np.array([1,0])"
   ]
  },
  {
   "cell_type": "code",
   "execution_count": null,
   "metadata": {},
   "outputs": [],
   "source": [
    "θ=np.pi/3\n",
    "M=np.array([[np.cos(θ),np.sin(θ)],[-np.sin(θ),np.cos(θ)]]) # Rotation matrix. "
   ]
  },
  {
   "cell_type": "code",
   "execution_count": null,
   "metadata": {},
   "outputs": [],
   "source": [
    "def Repeat_Mul(M,z0,n):\n",
    "    if n==0:\n",
    "        return z0\n",
    "    else:\n",
    "        return M@Repeat_Mul(M,z0,n-1)"
   ]
  },
  {
   "cell_type": "code",
   "execution_count": null,
   "metadata": {},
   "outputs": [],
   "source": [
    "for i in range(4):\n",
    "    %timeit Repeat_Mul(M,z0,10**i) # Memory issues"
   ]
  },
  {
   "cell_type": "code",
   "execution_count": null,
   "metadata": {},
   "outputs": [],
   "source": [
    "def Repeat_Mul_2(M,z0,n):\n",
    "    if n==1:\n",
    "        return z0\n",
    "    else:\n",
    "        for i in range(1,n+1):\n",
    "            z0 = M@z0\n",
    "        return z0    "
   ]
  },
  {
   "cell_type": "code",
   "execution_count": null,
   "metadata": {},
   "outputs": [],
   "source": [
    "for i in range(5):\n",
    "    %timeit Repeat_Mul_2(M,z0,10**i) # Memory issues"
   ]
  },
  {
   "cell_type": "code",
   "execution_count": null,
   "metadata": {},
   "outputs": [],
   "source": [
    "Repeat_Mul_2(M,z0,136)"
   ]
  },
  {
   "cell_type": "markdown",
   "metadata": {},
   "source": [
    "# Using \"List Comprehension\" for time dependant Hamiltonians."
   ]
  },
  {
   "cell_type": "code",
   "execution_count": null,
   "metadata": {},
   "outputs": [],
   "source": [
    "t=np.linspace(0,10,100)\n",
    "ω=np.pi/5"
   ]
  },
  {
   "cell_type": "code",
   "execution_count": null,
   "metadata": {},
   "outputs": [],
   "source": [
    "σx=np.array([[0,1],[1,0]])\n",
    "σz=np.array([[1,0],[0,-1]])"
   ]
  },
  {
   "cell_type": "code",
   "execution_count": null,
   "metadata": {},
   "outputs": [],
   "source": [
    "H=[σz+np.cos(ω*t0)*σx for t0 in t]"
   ]
  },
  {
   "cell_type": "code",
   "execution_count": null,
   "metadata": {},
   "outputs": [],
   "source": [
    "H[54]"
   ]
  },
  {
   "cell_type": "code",
   "execution_count": null,
   "metadata": {},
   "outputs": [],
   "source": []
  },
  {
   "cell_type": "code",
   "execution_count": null,
   "metadata": {},
   "outputs": [],
   "source": []
  }
 ],
 "metadata": {
  "kernelspec": {
   "display_name": "Python 3",
   "language": "python",
   "name": "python3"
  },
  "language_info": {
   "codemirror_mode": {
    "name": "ipython",
    "version": 3
   },
   "file_extension": ".py",
   "mimetype": "text/x-python",
   "name": "python",
   "nbconvert_exporter": "python",
   "pygments_lexer": "ipython3",
   "version": "3.9.6"
  }
 },
 "nbformat": 4,
 "nbformat_minor": 2
}
