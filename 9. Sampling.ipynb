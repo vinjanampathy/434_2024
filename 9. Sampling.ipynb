{
 "cells": [
  {
   "cell_type": "markdown",
   "metadata": {},
   "source": [
    "### [1] Consider the well known Gaussian Integral $I=\\int_{-\\infty}^{\\infty}dx e^{-x^2}=\\sqrt{\\pi}$. Compute this using random sampling."
   ]
  },
  {
   "cell_type": "markdown",
   "metadata": {},
   "source": [
    "### [2] Now consider $I=\\int dx dy dz =\\frac{4\\pi R^3}{3}$, computed in a ball of radius $R$. Convert this integral to polar coordinates $(r,\\theta,\\phi)$. Try to compute the integral by random sampling."
   ]
  },
  {
   "cell_type": "markdown",
   "metadata": {},
   "source": []
  }
 ],
 "metadata": {
  "kernelspec": {
   "display_name": "Python 3",
   "language": "python",
   "name": "python3"
  },
  "language_info": {
   "codemirror_mode": {
    "name": "ipython",
    "version": 3
   },
   "file_extension": ".py",
   "mimetype": "text/x-python",
   "name": "python",
   "nbconvert_exporter": "python",
   "pygments_lexer": "ipython3",
   "version": "3.9.6"
  }
 },
 "nbformat": 4,
 "nbformat_minor": 2
}
