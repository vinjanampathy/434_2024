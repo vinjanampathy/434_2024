{
 "cells": [
  {
   "cell_type": "markdown",
   "metadata": {},
   "source": [
    "# <font color='red'>Refresher. <font>"
   ]
  },
  {
   "cell_type": "markdown",
   "metadata": {},
   "source": [
    "## This is a refresher for the concepts we learned in class so far. We will work through Function Definitions, focussing on giving the function a name, giving inputs, giving defaults to inputs and assigning outputs. "
   ]
  },
  {
   "cell_type": "markdown",
   "metadata": {},
   "source": [
    "Remember that a \"function\" takes inputs from a domain, and produces outputs from a range. For example, the function f(x)=x \\forall x \\in \\mathbb{R}^+ takes inputs only from positive Reals and produces an output that is also a positive real. On the other hand f(x)=\\floor{x} \\forall x \\in \\mathbb{R}^+  takes inputs from real positives and produces integers. See https://en.wikipedia.org/wiki/Floor_and_ceiling_functions "
   ]
  },
  {
   "cell_type": "markdown",
   "metadata": {},
   "source": [
    "Remember that you can name a function anything you want. f(x) is simply a notation that means you have named your function \"f\". Now think about other functions such as sin(x), cosine(x),n!, \\abs{x}"
   ]
  },
  {
   "cell_type": "markdown",
   "metadata": {},
   "source": [
    "# <font color='red'> Tasks for today\n",
    "## [1] import the numpy package as we saw last class\n",
    "\n",
    "## [2] import the plotting package.\n",
    "\n",
    "### We will not use it right away, but I like to have all my function imports on top of my code in one or two boxes. Its a style choice (ask your TAs what this means...)\n"
   ]
  },
  {
   "cell_type": "code",
   "execution_count": 1,
   "metadata": {},
   "outputs": [],
   "source": [
    "# import here.\n"
   ]
  },
  {
   "cell_type": "markdown",
   "metadata": {},
   "source": [
    "# <font color='red'> Tasks for today\n",
    "## [2] Now consider the function that takes as input a real number and outputs the square of the number. Think of a name and define a function to implement this function. Its good to have a descriptive name for the function like square_function or square_of_number...\n"
   ]
  },
  {
   "cell_type": "code",
   "execution_count": 1,
   "metadata": {},
   "outputs": [],
   "source": [
    "# define square function here. "
   ]
  },
  {
   "cell_type": "markdown",
   "metadata": {},
   "source": [
    "# <font color='red'> Tasks for today\n",
    "## [3] Consider the function that takes as input a number x and outputs the absolute value of x. define a function to execute this. Give an appropriate function name. \n"
   ]
  },
  {
   "cell_type": "code",
   "execution_count": 2,
   "metadata": {},
   "outputs": [],
   "source": [
    "# define absolute function here."
   ]
  },
  {
   "cell_type": "markdown",
   "metadata": {},
   "source": []
  },
  {
   "cell_type": "markdown",
   "metadata": {},
   "source": [
    "# <font color='red'> Tasks for today\n",
    "## [4] Consider the function that takes as input a number x and outputs the absolute value of x, but if no input is given the input should be set to a default value of 1. define a function to execute this. Give an appropriate function name. \n"
   ]
  },
  {
   "cell_type": "code",
   "execution_count": null,
   "metadata": {},
   "outputs": [],
   "source": [
    "# define absolute function with default input here."
   ]
  },
  {
   "cell_type": "markdown",
   "metadata": {},
   "source": [
    "# <font color='red'> Tasks for today\n",
    "## [5] Lets now use numpy arrays to do this. Define a function that takes in a number z and evaluates the sine function as the output. Define a function using numpy to do this, and give it an appropriate name.\n"
   ]
  },
  {
   "cell_type": "code",
   "execution_count": 3,
   "metadata": {},
   "outputs": [],
   "source": [
    "# define numpy based function here."
   ]
  },
  {
   "cell_type": "markdown",
   "metadata": {},
   "source": [
    "# <font color='red'> Tasks for today\n",
    "## Lets see what differences are there between LISTs, TUPLES and NUMPY. Lets look at lists first. "
   ]
  },
  {
   "cell_type": "code",
   "execution_count": 15,
   "metadata": {},
   "outputs": [],
   "source": [
    "# define absolute function here.\n",
    "\n",
    "lett = ['x', 'y', 'z','w']\n",
    "lett.append(\"xx\")\n"
   ]
  },
  {
   "cell_type": "markdown",
   "metadata": {},
   "source": []
  },
  {
   "cell_type": "code",
   "execution_count": 16,
   "metadata": {},
   "outputs": [
    {
     "data": {
      "text/plain": [
       "['x', 'y', 'z', 'w', 'xx']"
      ]
     },
     "execution_count": 16,
     "metadata": {},
     "output_type": "execute_result"
    }
   ],
   "source": [
    "lett"
   ]
  },
  {
   "cell_type": "markdown",
   "metadata": {},
   "source": [
    "# <font color='red'> Tasks for today\n",
    "## [6] make a list which is empty. Input your name and the name of three neighbors and your TA."
   ]
  },
  {
   "cell_type": "code",
   "execution_count": 12,
   "metadata": {},
   "outputs": [],
   "source": [
    "# define your list here and append it as shown."
   ]
  },
  {
   "cell_type": "markdown",
   "metadata": {},
   "source": [
    "# <font color='red'> Tasks for today\n",
    "## Lets look at TUPLES now. "
   ]
  },
  {
   "cell_type": "code",
   "execution_count": 19,
   "metadata": {},
   "outputs": [],
   "source": [
    "original_tuple = (1, 2, 3)\n",
    "new_element = 4\n",
    "appended_tuple = original_tuple + (new_element,)"
   ]
  },
  {
   "cell_type": "code",
   "execution_count": 20,
   "metadata": {},
   "outputs": [
    {
     "data": {
      "text/plain": [
       "(1, 2, 3, 4)"
      ]
     },
     "execution_count": 20,
     "metadata": {},
     "output_type": "execute_result"
    }
   ],
   "source": [
    "appended_tuple"
   ]
  },
  {
   "cell_type": "markdown",
   "metadata": {},
   "source": [
    "# <font color='red'> Tasks for today\n",
    "## [7] make a TUPLE which is empty. Input your name and the name of three neighbors and your TA."
   ]
  },
  {
   "cell_type": "code",
   "execution_count": 21,
   "metadata": {},
   "outputs": [],
   "source": [
    "# Define your tuple here and append as discussed"
   ]
  },
  {
   "cell_type": "markdown",
   "metadata": {},
   "source": [
    "# <font color='red'> Tasks for today\n",
    "## [8] Now do the same task with numpy arrays."
   ]
  },
  {
   "cell_type": "code",
   "execution_count": 22,
   "metadata": {},
   "outputs": [],
   "source": [
    "# Numpy function here"
   ]
  },
  {
   "cell_type": "markdown",
   "metadata": {},
   "source": [
    "# <font color='red'> Lets do LOOPS in python<font>"
   ]
  },
  {
   "cell_type": "markdown",
   "metadata": {},
   "source": [
    "## Consider the equation which defines a time discritized differential equation called a RICCATI Equation\n",
    "# $x_{n+1}=x_n+\\delta t (c+x_n^2)$\n",
    "### Here $\\delta t$ and $c$ are parameters you can set. Can both be as large as you wish? As small? "
   ]
  },
  {
   "cell_type": "markdown",
   "metadata": {},
   "source": [
    "# <font color='red'> Tasks for today\n",
    "## [9] Define this function in NUMPY arrays\n"
   ]
  },
  {
   "cell_type": "code",
   "execution_count": 23,
   "metadata": {},
   "outputs": [],
   "source": [
    "# function here"
   ]
  },
  {
   "cell_type": "markdown",
   "metadata": {},
   "source": [
    "# <font color='red'> Tasks for today\n",
    "## This is how we write a simple loop to repeat a task. Here some function is being repeatedly evaluated 100 times. Something is missing here (numpy initialization)\n"
   ]
  },
  {
   "cell_type": "code",
   "execution_count": 29,
   "metadata": {},
   "outputs": [],
   "source": [
    "T=np.arange(100)\n",
    "x=np.zeros(100)\n",
    "for i in T:\n",
    "    x[i]=np.sin((2*np.pi*i/99)**2)"
   ]
  },
  {
   "cell_type": "markdown",
   "metadata": {},
   "source": [
    "# <font color='red'> Tasks for today\n",
    "## [10] Plot and check that the function is doing what you think it is doing.\n"
   ]
  },
  {
   "cell_type": "code",
   "execution_count": 31,
   "metadata": {},
   "outputs": [],
   "source": [
    "# Plot here"
   ]
  },
  {
   "cell_type": "markdown",
   "metadata": {},
   "source": [
    "# <font color='red'> Tasks for today\n",
    "## [11] DEVICE A TEST and talk to your TA to discuss how you will check that your code is working well... (hint: perform checks on simple functions that can be inspected visually for correctness...)\n"
   ]
  },
  {
   "cell_type": "code",
   "execution_count": 32,
   "metadata": {},
   "outputs": [],
   "source": [
    "# Test implementation here...including visual check."
   ]
  },
  {
   "cell_type": "markdown",
   "metadata": {},
   "source": [
    "# <font color='red'> Tasks for today\n",
    "## [12] Loop over x_n and plot, starting from the origin, $c=1$ and several values of small $\\delta t$, namely $\\delta t=10^{-1}$ and $\\delta t=10^{-2}$"
   ]
  },
  {
   "cell_type": "code",
   "execution_count": 33,
   "metadata": {},
   "outputs": [],
   "source": [
    "# Loop here."
   ]
  },
  {
   "cell_type": "code",
   "execution_count": null,
   "metadata": {},
   "outputs": [],
   "source": []
  }
 ],
 "metadata": {
  "kernelspec": {
   "display_name": "Python 3",
   "language": "python",
   "name": "python3"
  },
  "language_info": {
   "codemirror_mode": {
    "name": "ipython",
    "version": 3
   },
   "file_extension": ".py",
   "mimetype": "text/x-python",
   "name": "python",
   "nbconvert_exporter": "python",
   "pygments_lexer": "ipython3",
   "version": "3.9.6"
  }
 },
 "nbformat": 4,
 "nbformat_minor": 2
}
