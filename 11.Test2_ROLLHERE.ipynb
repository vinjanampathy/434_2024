{
 "cells": [
  {
   "cell_type": "markdown",
   "metadata": {},
   "source": [
    "# Q1)  Consider an ellipse of semi-axis (a,b) that the TAs can ask you to modify, and also a rectangle that circumscribes it [i.e., the ellipse is inside the rectangle of sides (a,b) such that the ellipse is touching the rectangle on all sides]. Use Monte Carlo Sampling to estimate pi based on the excluded area between the ellipse and the rectangle.  "
   ]
  },
  {
   "cell_type": "markdown",
   "metadata": {},
   "source": [
    " # Q2) Below is incorrect code that calculates the integral of $\\cos^{2}(x)$ in the range 0 to $2\\pi$. Modify the code such that it accurately computes the integral estimate and correctly plots the curve of $\\cos^{2}(x)$ in the given range.\n"
   ]
  },
  {
   "cell_type": "code",
   "execution_count": null,
   "metadata": {},
   "outputs": [],
   "source": [
    "\n",
    "import numpy as np\n",
    "import matplotlib.pyplot as plt\n",
    "\n",
    "N = 10000\n",
    "\n",
    "def f(x):\n",
    "    return np.cos(x)^2\n",
    "\n",
    "y = []\n",
    "\n",
    "x = np.random.uniform(0, 2*np.pi, N+1)\n",
    "\n",
    "for i in range(N):\n",
    "    y[i]=f(x[i])\n",
    "    \n",
    "\n",
    "integral_estimate = (2*np.pi) * np.sum(y)\n",
    "\n",
    "print(f\"integral estimate: {integral_estimate}\")\n",
    " \n",
    "plt.plot(x, y, label=r'$\\cos^2(x)$', color='blue')\n",
    "plt.title(r'Plot of $\\cos^2(x)$ from $0$ to $2\\pi$')\n",
    "plt.xlabel('x')\n",
    "plt.ylabel(r'$\\cos^2(x)$')\n",
    "plt.show()"
   ]
  },
  {
   "cell_type": "markdown",
   "metadata": {},
   "source": []
  },
  {
   "cell_type": "markdown",
   "metadata": {},
   "source": [
    "# Q3) Answer all five questions below.\n",
    "\n",
    "[1] Plot x vs sin(x) for an nparray of 2000 points between $0$ and $2\\pi$.\n",
    "\n",
    "[2] Generate a two-by-two matrix each of whose elements is chosen from a gaussian random sample. compute its eigenvalues. Store it in an array. Do this repeatedly a 100 times and plot the eigenvalues to show how they distribute. \n",
    "\n",
    "[3] Fibonacci numbers are defined as $F_n=F_{n-1}+F_{n-2}$ with the first two initial numbers being $F_0$ and $F_1$. Write a program that takes complex initial numbers and outputs $n=10$ elements of the sequence.\n",
    "\n",
    "[4] Solve numerically the ordinary differential equation $\\ddot{x}(t)-t*x(t)=0$ for the initial condition $x(0)=1,\\dot{x}(0)=0.1$. This is called the Airy differential equation.\n",
    "\n",
    "[5] Define a function that takes as input a real vector $x$ and returns as output their Shatten $p$-norm, defined as $\\Vert x \\Vert_p :=\\left(\\sum_{i=1}^{n}\\vert x_i\\vert^p\\right)^{\\frac{1}{p}}$. "
   ]
  },
  {
   "cell_type": "markdown",
   "metadata": {},
   "source": []
  }
 ],
 "metadata": {
  "kernelspec": {
   "display_name": "Python 3 (ipykernel)",
   "language": "python",
   "name": "python3"
  },
  "language_info": {
   "codemirror_mode": {
    "name": "ipython",
    "version": 3
   },
   "file_extension": ".py",
   "mimetype": "text/x-python",
   "name": "python",
   "nbconvert_exporter": "python",
   "pygments_lexer": "ipython3",
   "version": "3.10.12"
  }
 },
 "nbformat": 4,
 "nbformat_minor": 2
}
