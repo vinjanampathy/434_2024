{
 "cells": [
  {
   "cell_type": "code",
   "execution_count": 4,
   "metadata": {},
   "outputs": [
    {
     "name": "stdout",
     "output_type": "stream",
     "text": [
      "b is greater than a\n",
      "167\n"
     ]
    }
   ],
   "source": [
    "a = 33\n",
    "b = 200\n",
    "if b > a:\n",
    "  print(\"b is greater than a\")\n",
    "  print(b-a)"
   ]
  },
  {
   "cell_type": "code",
   "execution_count": 6,
   "metadata": {},
   "outputs": [
    {
     "name": "stdout",
     "output_type": "stream",
     "text": [
      "b is greater than a\n"
     ]
    }
   ],
   "source": [
    "a = 33\n",
    "b = 330\n",
    "if b > a:\n",
    "  print(\"b is greater than a\")\n",
    "elif a == b:\n",
    "  print(\"a and b are equal\")"
   ]
  },
  {
   "cell_type": "code",
   "execution_count": null,
   "metadata": {},
   "outputs": [],
   "source": [
    "a = 20\n",
    "b = 33\n",
    "if b > a:\n",
    "  print(\"b is greater than a\")\n",
    "elif a == b:\n",
    "  print(\"a and b are equal\")\n",
    "else:\n",
    "  print(\"a is greater than b\")"
   ]
  },
  {
   "cell_type": "code",
   "execution_count": null,
   "metadata": {},
   "outputs": [],
   "source": [
    "x=0"
   ]
  },
  {
   "cell_type": "code",
   "execution_count": 7,
   "metadata": {},
   "outputs": [
    {
     "name": "stdout",
     "output_type": "stream",
     "text": [
      "0\n",
      "1\n",
      "2\n",
      "3\n",
      "4\n",
      "-------\n",
      "Sum: 10\n"
     ]
    }
   ],
   "source": [
    "## Sum of first n naturals is n(n+1)/2\n",
    "x=0\n",
    "for i in range(5):\n",
    "        print(i)\n",
    "        x=x+i\n",
    "print(\"-------\")                \n",
    "print(\"Sum:\",x)        "
   ]
  },
  {
   "cell_type": "code",
   "execution_count": 12,
   "metadata": {},
   "outputs": [
    {
     "name": "stdout",
     "output_type": "stream",
     "text": [
      "1\n",
      "2\n",
      "3\n",
      "4\n",
      "5\n",
      "6\n",
      "7\n",
      "8\n",
      "9\n",
      "Sum: 25\n"
     ]
    }
   ],
   "source": [
    "x=0\n",
    "for i in range(1,10):\n",
    "    print(i)\n",
    "    if i%2==1:\n",
    "        x=x+i\n",
    "print(\"Sum:\",x)        "
   ]
  },
  {
   "cell_type": "code",
   "execution_count": 13,
   "metadata": {},
   "outputs": [
    {
     "name": "stdout",
     "output_type": "stream",
     "text": [
      "outside 1\n",
      "inside 1\n",
      "outside 2\n",
      "outside 3\n",
      "inside 3\n",
      "outside 4\n",
      "Sum: 4\n"
     ]
    }
   ],
   "source": [
    "x=0\n",
    "for i in range(1,5):\n",
    "    print(\"outside\",i)\n",
    "    if i%2==1:\n",
    "        print(\"inside\",i)\n",
    "        x=x+i\n",
    "print(\"Sum:\",x)        "
   ]
  },
  {
   "cell_type": "code",
   "execution_count": 15,
   "metadata": {},
   "outputs": [
    {
     "name": "stdout",
     "output_type": "stream",
     "text": [
      "50\n"
     ]
    }
   ],
   "source": [
    "x=0\n",
    "for i in range(1,100):\n",
    "    if i%2==1:\n",
    "        x=x+i\n",
    "    elif i%2==0:\n",
    "        x=x-i\n",
    "print(x)        "
   ]
  },
  {
   "cell_type": "code",
   "execution_count": 9,
   "metadata": {},
   "outputs": [
    {
     "name": "stdout",
     "output_type": "stream",
     "text": [
      "493\n"
     ]
    }
   ],
   "source": [
    "x=0\n",
    "for i in range(1,10):\n",
    "    if i%2==1:\n",
    "        x=x+i\n",
    "    elif i%3==0:\n",
    "        x=x-i\n",
    "    else:\n",
    "        x=x**2 #( This was wrongly written as x^2 before. Bikas pointed it out to me.)\n",
    "print(x)        "
   ]
  },
  {
   "cell_type": "markdown",
   "metadata": {},
   "source": [
    "# Tasks to do: \n",
    "## [1] Figure out why the answer to the code above is 493.\n",
    "\n",
    "## I have written a room temperature code below which simulates a room being randomly heated and cooled below. Use this as the room for which you are building the thermostat in the two problems below"
   ]
  },
  {
   "cell_type": "code",
   "execution_count": 63,
   "metadata": {},
   "outputs": [
    {
     "data": {
      "text/plain": [
       "[<matplotlib.lines.Line2D at 0x12215b9d0>,\n",
       " <matplotlib.lines.Line2D at 0x12215b9a0>,\n",
       " <matplotlib.lines.Line2D at 0x12215bb80>]"
      ]
     },
     "execution_count": 63,
     "metadata": {},
     "output_type": "execute_result"
    },
    {
     "data": {
      "image/png": "[encoded data removed]",
      "text/plain": [
       "<Figure size 640x480 with 1 Axes>"
      ]
     },
     "metadata": {},
     "output_type": "display_data"
    }
   ],
   "source": [
    "import numpy as np\n",
    "N=1000\n",
    "Tf=100\n",
    "number_of_osc=100 # NOSC=100/10\n",
    "time=np.linspace(0,Tf,N)\n",
    "x=3+1.0*np.random.randn(N)\n",
    "T=np.zeros(N)\n",
    "for i in range(N):\n",
    "    T[i]=22.5+x[i]*np.sin(2*np.pi*time[i]/number_of_osc)\n",
    "\n",
    "plt.plot(time,20*np.ones(N),'r--',time,25*np.ones(N),'r--',time,T,'k-')"
   ]
  },
  {
   "cell_type": "markdown",
   "metadata": {},
   "source": [
    "## [2] Lets build a temperature controller (called a \"thermostat\") which controls the temperature between 20 Deg C and 25 Deg C. Write a program called \"Thermostat\" which reads as input a temperature T and runs a \"maintain\" subroutine. The maintain subroutine should cutoff the temperature at both boundaries (which we can interpret as some control signal we will send to the rooms heaters and coolers...) \n",
    "## [3] Write a program called \"Advanced_Thermostat\" which reads as input a temperature T and runs a heating or cooling subroutine. The heating subroutine should add a small increment of temperature (say increase the temperature by 0.1 Deg) and then check the temperature again. \"heating\" subroutine should stop once its in the range. "
   ]
  },
  {
   "cell_type": "markdown",
   "metadata": {},
   "source": []
  }
 ],
 "metadata": {
  "kernelspec": {
   "display_name": "Python 3",
   "language": "python",
   "name": "python3"
  },
  "language_info": {
   "codemirror_mode": {
    "name": "ipython",
    "version": 3
   },
   "file_extension": ".py",
   "mimetype": "text/x-python",
   "name": "python",
   "nbconvert_exporter": "python",
   "pygments_lexer": "ipython3",
   "version": "3.9.6"
  }
 },
 "nbformat": 4,
 "nbformat_minor": 2
}
