{
 "cells": [
  {
   "cell_type": "markdown",
   "metadata": {},
   "source": [
    "# Problem [1]\n",
    "\n",
    "[1 a] Make a function, which takes an input $n$, and outputs an array of all numbers from $0$ to integer $n$, but flip the sign of all odd numbers.\n",
    "\n",
    "[1 b] Make a function, which prints to screen the function $f(x)=x^{\\frac{1}{3}}$ for real values of $0<x<4$ with your choice of discritization. Note that there are no inputs to the functions, but it has an output.\n",
    "\n",
    "[1 c] Make a function that takes as input a $2\\times 2$ matrix whose elements are $M_{ij}$ and returns a matrix $\\sigma_x M \\sigma_x$. Here $\\sigma_x= \\left( \\begin{array}{cc}\n",
    "0 & 1 \\\\\n",
    "1 & 0\n",
    "\\end{array} \\right)$"
   ]
  },
  {
   "cell_type": "markdown",
   "metadata": {},
   "source": [
    "# Problem [2]\n",
    "\n",
    "[2 a] Make a function, which takes as input two positive reals $x_0,\\delta x$, which outputs an array $\\frac{\\sin(x)}{x}$ between $0$ and $x_0$ in intervals of $\\delta x$.\n",
    "\n",
    "\n",
    "[2 b] How did you handle $x\\rightarrow 0$? I am not asking you a maths question about limits, I am asking you what your strategy in the code is."
   ]
  },
  {
   "cell_type": "markdown",
   "metadata": {},
   "source": [
    "# Problem [3] Make a function \n",
    "\n",
    "[3 a] Make a function, which takes inputs $(\\omega_0,\\gamma,x_0,p_0,\\delta t, N)$, and outputs an array of the time series $x_i,p_i$ for all time intervals $\\delta t*n_i$ where $0\\leq n_i\\leq N$ solving the damped harmonic oscillator $\\ddot{x}(t)+\\gamma\\dot{x}(t)+\\omega^2 x(t)=0$. Feel free to call a solver....save your data. \n",
    "\n",
    "[3 b] Plot the phase space trajectory of the evolution above."
   ]
  },
  {
   "cell_type": "markdown",
   "metadata": {},
   "source": [
    "# Problem [4] Write programs to do the following:\n",
    "[4 a] How do you generate a random variable that is uniformly distributed between -1/2 and 1/2 ? What function would you call?\n",
    "\n",
    "\n",
    "\n",
    "[4 b] Plot $(x,\\sin(x))$. On top of it, sample $(x,\\sin(x))$ at random points $x$ in the domain of your choice. If your code is executed, they should agree....\n",
    "\n",
    "\n",
    "[4 c] Make a function $f(x)=e^{-(x+dW)^2/\\sigma^2}$, where $dW$ is a Gaussian random variable with mean $0$ and standard deviation $\\sigma/10$."
   ]
  },
  {
   "cell_type": "markdown",
   "metadata": {},
   "source": []
  },
  {
   "cell_type": "markdown",
   "metadata": {},
   "source": []
  },
  {
   "cell_type": "markdown",
   "metadata": {},
   "source": []
  }
 ],
 "metadata": {
  "language_info": {
   "name": "python"
  }
 },
 "nbformat": 4,
 "nbformat_minor": 2
}
